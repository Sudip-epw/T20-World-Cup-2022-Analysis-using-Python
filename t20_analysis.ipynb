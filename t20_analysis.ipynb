{
 "cells": [
  {
   "cell_type": "code",
   "execution_count": 2,
   "id": "79b0056b",
   "metadata": {},
   "outputs": [
    {
     "name": "stdout",
     "output_type": "stream",
     "text": [
      "              venue        team1        team2     stage  toss winner  \\\n",
      "0               SCG  New Zealand    Australia  Super 12    Australia   \n",
      "1     Optus Stadium  Afghanistan      England  Super 12      England   \n",
      "2  Blundstone Arena      Ireland    Sri lanka  Super 12      Ireland   \n",
      "3               MCG     Pakistan        India  Super 12        India   \n",
      "4  Blundstone Arena   Bangladesh  Netherlands  Super 12  Netherlands   \n",
      "\n",
      "  toss decision  first innings score  first innings wickets  \\\n",
      "0         Field                200.0                    3.0   \n",
      "1         Field                112.0                   10.0   \n",
      "2           Bat                128.0                    8.0   \n",
      "3         Field                159.0                    8.0   \n",
      "4         Field                144.0                    8.0   \n",
      "\n",
      "   second innings score  second innings wickets       winner   won by  \\\n",
      "0                 111.0                    10.0  New Zealand     Runs   \n",
      "1                 113.0                     5.0      England  Wickets   \n",
      "2                 133.0                     1.0    Sri lanka  Wickets   \n",
      "3                 160.0                     6.0        India  Wickets   \n",
      "4                 135.0                    10.0   Bangladesh     Runs   \n",
      "\n",
      "  player of the match       top scorer  highest score         best bowler  \\\n",
      "0        Devon Conway     Devon Conway           92.0         Tim Southee   \n",
      "1          Sam Curran   Ibrahim Zadran           32.0          Sam Curran   \n",
      "2        Kusal Mendis     Kusal Mendis           68.0  Maheesh Theekshana   \n",
      "3         Virat Kohli      Virat Kohli           82.0       Hardik Pandya   \n",
      "4        Taskin Ahmed  Colin Ackermann           62.0        Taskin Ahmed   \n",
      "\n",
      "  best bowling figure  \n",
      "0                 3-6  \n",
      "1                5-10  \n",
      "2                2-19  \n",
      "3                3-30  \n",
      "4                4-25  \n"
     ]
    }
   ],
   "source": [
    "import pandas as pd\n",
    "import matplotlib.pyplot as plt\n",
    "\n",
    "df = pd.read_csv(\"t20-world-cup-22.csv\")\n",
    "print(df.head(5))"
   ]
  },
  {
   "cell_type": "code",
   "execution_count": 6,
   "id": "a524226f",
   "metadata": {},
   "outputs": [
    {
     "name": "stdout",
     "output_type": "stream",
     "text": [
      "<class 'pandas.core.frame.DataFrame'>\n",
      "RangeIndex: 33 entries, 0 to 32\n",
      "Data columns (total 17 columns):\n",
      " #   Column                  Non-Null Count  Dtype  \n",
      "---  ------                  --------------  -----  \n",
      " 0   venue                   33 non-null     object \n",
      " 1   team1                   33 non-null     object \n",
      " 2   team2                   33 non-null     object \n",
      " 3   stage                   33 non-null     object \n",
      " 4   toss winner             30 non-null     object \n",
      " 5   toss decision           30 non-null     object \n",
      " 6   first innings score     30 non-null     float64\n",
      " 7   first innings wickets   30 non-null     float64\n",
      " 8   second innings score    30 non-null     float64\n",
      " 9   second innings wickets  30 non-null     float64\n",
      " 10  winner                  29 non-null     object \n",
      " 11  won by                  29 non-null     object \n",
      " 12  player of the match     29 non-null     object \n",
      " 13  top scorer              30 non-null     object \n",
      " 14  highest score           30 non-null     float64\n",
      " 15  best bowler             30 non-null     object \n",
      " 16  best bowling figure     30 non-null     object \n",
      "dtypes: float64(5), object(12)\n",
      "memory usage: 4.5+ KB\n"
     ]
    }
   ],
   "source": [
    "df.info()\n",
    "# print(di.head(5))\n"
   ]
  },
  {
   "cell_type": "code",
   "execution_count": 8,
   "id": "7c03b9c2",
   "metadata": {},
   "outputs": [
    {
     "data": {
      "text/html": [
       "<div>\n",
       "<style scoped>\n",
       "    .dataframe tbody tr th:only-of-type {\n",
       "        vertical-align: middle;\n",
       "    }\n",
       "\n",
       "    .dataframe tbody tr th {\n",
       "        vertical-align: top;\n",
       "    }\n",
       "\n",
       "    .dataframe thead th {\n",
       "        text-align: right;\n",
       "    }\n",
       "</style>\n",
       "<table border=\"1\" class=\"dataframe\">\n",
       "  <thead>\n",
       "    <tr style=\"text-align: right;\">\n",
       "      <th></th>\n",
       "      <th>first innings score</th>\n",
       "      <th>first innings wickets</th>\n",
       "      <th>second innings score</th>\n",
       "      <th>second innings wickets</th>\n",
       "      <th>highest score</th>\n",
       "    </tr>\n",
       "  </thead>\n",
       "  <tbody>\n",
       "    <tr>\n",
       "      <th>count</th>\n",
       "      <td>30.000000</td>\n",
       "      <td>30.000000</td>\n",
       "      <td>30.000000</td>\n",
       "      <td>30.000000</td>\n",
       "      <td>30.000000</td>\n",
       "    </tr>\n",
       "    <tr>\n",
       "      <th>mean</th>\n",
       "      <td>153.366667</td>\n",
       "      <td>6.866667</td>\n",
       "      <td>130.800000</td>\n",
       "      <td>6.233333</td>\n",
       "      <td>64.066667</td>\n",
       "    </tr>\n",
       "    <tr>\n",
       "      <th>std</th>\n",
       "      <td>30.440992</td>\n",
       "      <td>2.096521</td>\n",
       "      <td>25.511863</td>\n",
       "      <td>3.013571</td>\n",
       "      <td>17.264541</td>\n",
       "    </tr>\n",
       "    <tr>\n",
       "      <th>min</th>\n",
       "      <td>79.000000</td>\n",
       "      <td>2.000000</td>\n",
       "      <td>51.000000</td>\n",
       "      <td>0.000000</td>\n",
       "      <td>32.000000</td>\n",
       "    </tr>\n",
       "    <tr>\n",
       "      <th>25%</th>\n",
       "      <td>134.000000</td>\n",
       "      <td>5.250000</td>\n",
       "      <td>113.500000</td>\n",
       "      <td>5.000000</td>\n",
       "      <td>52.500000</td>\n",
       "    </tr>\n",
       "    <tr>\n",
       "      <th>50%</th>\n",
       "      <td>157.000000</td>\n",
       "      <td>7.500000</td>\n",
       "      <td>136.000000</td>\n",
       "      <td>6.000000</td>\n",
       "      <td>62.000000</td>\n",
       "    </tr>\n",
       "    <tr>\n",
       "      <th>75%</th>\n",
       "      <td>179.000000</td>\n",
       "      <td>8.000000</td>\n",
       "      <td>147.750000</td>\n",
       "      <td>9.000000</td>\n",
       "      <td>70.250000</td>\n",
       "    </tr>\n",
       "    <tr>\n",
       "      <th>max</th>\n",
       "      <td>205.000000</td>\n",
       "      <td>10.000000</td>\n",
       "      <td>170.000000</td>\n",
       "      <td>10.000000</td>\n",
       "      <td>109.000000</td>\n",
       "    </tr>\n",
       "  </tbody>\n",
       "</table>\n",
       "</div>"
      ],
      "text/plain": [
       "       first innings score  first innings wickets  second innings score  \\\n",
       "count            30.000000              30.000000             30.000000   \n",
       "mean            153.366667               6.866667            130.800000   \n",
       "std              30.440992               2.096521             25.511863   \n",
       "min              79.000000               2.000000             51.000000   \n",
       "25%             134.000000               5.250000            113.500000   \n",
       "50%             157.000000               7.500000            136.000000   \n",
       "75%             179.000000               8.000000            147.750000   \n",
       "max             205.000000              10.000000            170.000000   \n",
       "\n",
       "       second innings wickets  highest score  \n",
       "count               30.000000      30.000000  \n",
       "mean                 6.233333      64.066667  \n",
       "std                  3.013571      17.264541  \n",
       "min                  0.000000      32.000000  \n",
       "25%                  5.000000      52.500000  \n",
       "50%                  6.000000      62.000000  \n",
       "75%                  9.000000      70.250000  \n",
       "max                 10.000000     109.000000  "
      ]
     },
     "execution_count": 8,
     "metadata": {},
     "output_type": "execute_result"
    }
   ],
   "source": [
    "df.describe()\n"
   ]
  },
  {
   "cell_type": "code",
   "execution_count": 10,
   "id": "d915c5ab",
   "metadata": {},
   "outputs": [
    {
     "data": {
      "text/plain": [
       "count      33\n",
       "unique      6\n",
       "top       SCG\n",
       "freq        7\n",
       "Name: venue, dtype: object"
      ]
     },
     "execution_count": 10,
     "metadata": {},
     "output_type": "execute_result"
    }
   ],
   "source": [
    "df['venue'].describe()"
   ]
  },
  {
   "cell_type": "code",
   "execution_count": 11,
   "id": "d4fe87df",
   "metadata": {},
   "outputs": [
    {
     "data": {
      "text/plain": [
       "count              33\n",
       "unique             12\n",
       "top       New Zealand\n",
       "freq                5\n",
       "Name: team1, dtype: object"
      ]
     },
     "execution_count": 11,
     "metadata": {},
     "output_type": "execute_result"
    }
   ],
   "source": [
    "df['team1'].describe()"
   ]
  },
  {
   "cell_type": "code",
   "execution_count": 13,
   "id": "a61a7d89",
   "metadata": {},
   "outputs": [
    {
     "data": {
      "text/plain": [
       "count     30.000000\n",
       "mean     153.366667\n",
       "std       30.440992\n",
       "min       79.000000\n",
       "25%      134.000000\n",
       "50%      157.000000\n",
       "75%      179.000000\n",
       "max      205.000000\n",
       "Name: first innings score, dtype: float64"
      ]
     },
     "execution_count": 13,
     "metadata": {},
     "output_type": "execute_result"
    }
   ],
   "source": [
    "df['first innings score'].describe() "
   ]
  },
  {
   "cell_type": "code",
   "execution_count": 14,
   "id": "f4e67251",
   "metadata": {},
   "outputs": [
    {
     "data": {
      "text/plain": [
       "count     30.000000\n",
       "mean      64.066667\n",
       "std       17.264541\n",
       "min       32.000000\n",
       "25%       52.500000\n",
       "50%       62.000000\n",
       "75%       70.250000\n",
       "max      109.000000\n",
       "Name: highest score, dtype: float64"
      ]
     },
     "execution_count": 14,
     "metadata": {},
     "output_type": "execute_result"
    }
   ],
   "source": [
    "df['highest score'].describe()"
   ]
  },
  {
   "cell_type": "code",
   "execution_count": 15,
   "id": "a3dc3165",
   "metadata": {},
   "outputs": [
    {
     "data": {
      "text/plain": [
       "179.0    3\n",
       "144.0    2\n",
       "157.0    2\n",
       "168.0    2\n",
       "185.0    2\n",
       "200.0    1\n",
       "117.0    1\n",
       "152.0    1\n",
       "186.0    1\n",
       "127.0    1\n",
       "158.0    1\n",
       "141.0    1\n",
       "184.0    1\n",
       "91.0     1\n",
       "133.0    1\n",
       "112.0    1\n",
       "150.0    1\n",
       "167.0    1\n",
       "130.0    1\n",
       "205.0    1\n",
       "79.0     1\n",
       "159.0    1\n",
       "128.0    1\n",
       "137.0    1\n",
       "Name: first innings score, dtype: int64"
      ]
     },
     "execution_count": 15,
     "metadata": {},
     "output_type": "execute_result"
    }
   ],
   "source": [
    "df['first innings score'].value_counts()"
   ]
  },
  {
   "cell_type": "code",
   "execution_count": 16,
   "id": "87684b5a",
   "metadata": {},
   "outputs": [
    {
     "data": {
      "text/plain": [
       "62.0     3\n",
       "52.0     3\n",
       "68.0     2\n",
       "54.0     2\n",
       "61.0     2\n",
       "71.0     2\n",
       "92.0     1\n",
       "73.0     1\n",
       "57.0     1\n",
       "41.0     1\n",
       "67.0     1\n",
       "64.0     1\n",
       "49.0     1\n",
       "66.0     1\n",
       "32.0     1\n",
       "104.0    1\n",
       "44.0     1\n",
       "109.0    1\n",
       "59.0     1\n",
       "47.0     1\n",
       "82.0     1\n",
       "86.0     1\n",
       "Name: highest score, dtype: int64"
      ]
     },
     "execution_count": 16,
     "metadata": {},
     "output_type": "execute_result"
    }
   ],
   "source": [
    "df['highest score'].value_counts()"
   ]
  },
  {
   "cell_type": "code",
   "execution_count": 34,
   "id": "393ce3ba",
   "metadata": {},
   "outputs": [
    {
     "name": "stdout",
     "output_type": "stream",
     "text": [
      "England         5\n",
      "India           4\n",
      "Pakistan        4\n",
      "New Zealand     3\n",
      "Australia       3\n",
      "Sri lanka       2\n",
      "Bangladesh      2\n",
      "South Africa    2\n",
      "Netherlands     2\n",
      "Ireland         1\n",
      "Zimbabwe        1\n",
      "Name: winner, dtype: int64\n"
     ]
    }
   ],
   "source": [
    "count=df['winner'].value_counts()\n",
    "print(count)"
   ]
  },
  {
   "cell_type": "code",
   "execution_count": 54,
   "id": "a5c3d6fd",
   "metadata": {},
   "outputs": [
    {
     "data": {
      "image/png": "[encoded data removed]",
      "text/plain": [
       "<Figure size 1300x800 with 1 Axes>"
      ]
     },
     "metadata": {},
     "output_type": "display_data"
    }
   ],
   "source": [
    "# teams = df['winner'].values\n",
    "teams_value = count.values\n",
    "count_label= count.index\n",
    "# print(teams)\n",
    "fig = plt.figure(figsize=(13,8))\n",
    "plt.bar(count_label,teams_value,color='blue',width=0.4)\n",
    "plt.xlabel(\"teams\")\n",
    "plt.ylabel(\"no. of times\")\n",
    "plt.title(\"Number of Matches Won by teams in t20 World Cup 2022\")\n",
    "plt.show()"
   ]
  },
  {
   "cell_type": "code",
   "execution_count": 70,
   "id": "f7e192cb",
   "metadata": {},
   "outputs": [
    {
     "data": {
      "image/png": "[encoded data removed]",
      "text/plain": [
       "<Figure size 1300x800 with 1 Axes>"
      ]
     },
     "metadata": {},
     "output_type": "display_data"
    }
   ],
   "source": [
    "new_df = df[[\"winner\"]]\n",
    "# print(new_df)\n",
    "winner_season = new_df.groupby('winner').value_counts()\n",
    "fig = plt.figure(figsize=(13,8))\n",
    "winner_plot = sns.barplot(x = winner_season.index, y = winner_season, color='red',width=0.3)\n",
    "winner_plot.set(xlabel = 'teams', ylabel = 'No. of wins');"
   ]
  },
  {
   "cell_type": "code",
   "execution_count": null,
   "id": "0be9024b",
   "metadata": {},
   "outputs": [],
   "source": []
  }
 ],
 "metadata": {
  "kernelspec": {
   "display_name": "Python 3 (ipykernel)",
   "language": "python",
   "name": "python3"
  },
  "language_info": {
   "codemirror_mode": {
    "name": "ipython",
    "version": 3
   },
   "file_extension": ".py",
   "mimetype": "text/x-python",
   "name": "python",
   "nbconvert_exporter": "python",
   "pygments_lexer": "ipython3",
   "version": "3.11.0"
  }
 },
 "nbformat": 4,
 "nbformat_minor": 5
}
